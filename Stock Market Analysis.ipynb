{
 "cells": [
  {
   "cell_type": "code",
   "execution_count": 171,
   "id": "f5c50e8c-1d91-4159-bf11-c82a8b399a2e",
   "metadata": {},
   "outputs": [],
   "source": [
    "import yfinance as yf\n",
    "import pandas as pd\n",
    "import numpy as np\n",
    "from sklearn.preprocessing import MinMaxScaler"
   ]
  },
  {
   "cell_type": "markdown",
   "id": "c6fe85b6-3238-4b6d-96c4-33972d7f8f43",
   "metadata": {},
   "source": [
    "# Data Collection and Preprocessing"
   ]
  },
  {
   "cell_type": "code",
   "execution_count": 174,
   "id": "18597fbf-5a1f-413e-953d-ad9abbfee699",
   "metadata": {},
   "outputs": [
    {
     "name": "stderr",
     "output_type": "stream",
     "text": [
      "[*********************100%***********************]  3 of 3 completed\n"
     ]
    }
   ],
   "source": [
    "# Define tickers and date range\n",
    "tickers = ['^GSPC', '^IXIC', '^N225']\n",
    "start_date = '2010-01-01'\n",
    "end_date = '2022-01-01'\n",
    "\n",
    "# Fetch data\n",
    "data = yf.download(tickers, start=start_date, end=end_date, group_by='ticker')\n",
    "\n",
    "# Drop 'Close' from each ticker in the DataFrame\n",
    "for ticker in tickers:\n",
    "    if (ticker, 'Close') in data.columns:  # Check if the 'Close' column exists\n",
    "        data.drop(columns=[(ticker, 'Close')], inplace=True)  # Drop the 'Close' column\n",
    "\n",
    "# Apply LOCF for missing values across the entire dataset\n",
    "data = data.ffill()"
   ]
  },
  {
   "cell_type": "markdown",
   "id": "0c3e03bb-2576-48f9-8192-dc30f7e3b7d4",
   "metadata": {},
   "source": [
    "# Feature Engineering\n",
    "\n",
    "The following code calculates several technical indicators for stock data, including Simple Moving Average (SMA), Relative Strength Index (RSI), Moving Average Convergence Divergence (MACD), and Bollinger Bands for multiple stocks. These indicators are widely used in the analysis of financial markets to help identify market trends and potential trading opportunities.\n",
    "\n",
    "## Indicators\n",
    "\n",
    "### 1. Simple Moving Average (SMA)\n",
    "- **Purpose**: Provides a smooth data series by calculating the average of a specified number of past prices.\n",
    "- **Calculation**: The 30-day SMA is calculated, which represents the average of the last 30 closing prices.\n",
    "\n",
    "### 2. Relative Strength Index (RSI)\n",
    "- **Purpose**: Measures the velocity and magnitude of directional price movements. It provides signals about bullish or bearish price momentum.\n",
    "- **Calculation**: The 14-day RSI is computed, which involves:\n",
    "  - Identifying the magnitude of recent gains and losses.\n",
    "  - Calculating the average of these gains and losses over 14 days.\n",
    "  - Normalizing the result to an oscillator between 0 and 100.\n",
    "\n",
    "### 3. Moving Average Convergence Divergence (MACD)\n",
    "- **Purpose**: Tracks the relationship between two moving averages of a stock's price.\n",
    "- **Calculation**:\n",
    "  - The MACD line is calculated as the difference between the 12-day and 26-day exponential moving averages (EMA) of the closing prices.\n",
    "  - A signal line, which is the 9-day EMA of the MACD line itself, is also calculated. This acts as a trigger for buy and sell signals.\n",
    "\n",
    "### 4. Bollinger Bands\n",
    "- **Purpose**: Measures market volatility and provides insights into price levels relative to previous trades.\n",
    "- **Calculation**:\n",
    "  - A 20-day SMA of the closing prices forms the middle band.\n",
    "  - The upper and lower bands are then set two standard deviations above and below this middle band, respectively.\n",
    " \n",
    "### Dropping NaN Values in Financial Data\n",
    "\n",
    "'NaN' values in technical indicators like SMA, RSI, and Bollinger Bands typically occur because there isn't enough historical data to perform the calculation (e.g., not enough past days for a 30-day SMA at the start of a dataset). Removing these 'NaN' values is beneficial as it ensures that all analyses and models are based only on periods where full data is available, thereby enhancing the reliability and validity of financial assessments and predictions.\n"
   ]
  },
  {
   "cell_type": "code",
   "execution_count": 177,
   "id": "96174e2a-2183-4ccd-ad7f-8276ea4f01a5",
   "metadata": {},
   "outputs": [],
   "source": [
    "# Assuming 'data' is your DataFrame\n",
    "\n",
    "# Define the window for moving averages and other indicators\n",
    "window_sma = 30\n",
    "window_rsi = 14\n",
    "window_macd_short = 12\n",
    "window_macd_long = 26\n",
    "signal_line_window = 9\n",
    "window_boll = 20\n",
    "\n",
    "for ticker in tickers:\n",
    "    # Get the position of 'Adj Close' for each ticker to start inserting new features after it\n",
    "    position = data.columns.get_loc((ticker, 'Adj Close')) + 1\n",
    "\n",
    "    # Insert SMA\n",
    "    sma_series = data[(ticker, 'Adj Close')].rolling(window=window_sma).mean()\n",
    "    data.insert(loc=position, column=(ticker, 'SMA_30'), value=sma_series)\n",
    "\n",
    "    # Insert RSI\n",
    "    delta = data[(ticker, 'Adj Close')].diff(1)\n",
    "    gain = delta.where(delta > 0, 0).rolling(window=window_rsi).mean()\n",
    "    loss = -delta.where(delta < 0, 0).rolling(window=window_rsi).mean()\n",
    "    RS = gain / loss\n",
    "    rsi_series = 100 - (100 / (1 + RS))\n",
    "    data.insert(loc=position + 1, column=(ticker, 'RSI_14'), value=rsi_series)\n",
    "\n",
    "    # Insert MACD and Signal Line\n",
    "    exp1 = data[(ticker, 'Adj Close')].ewm(span=window_macd_short, adjust=False).mean()\n",
    "    exp2 = data[(ticker, 'Adj Close')].ewm(span=window_macd_long, adjust=False).mean()\n",
    "    macd = exp1 - exp2\n",
    "    data.insert(loc=position + 2, column=(ticker, 'MACD'), value=macd)\n",
    "    data.insert(loc=position + 3, column=(ticker, 'Signal_Line'), value=macd.ewm(span=signal_line_window, adjust=False).mean())\n",
    "\n",
    "    # Insert Bollinger Bands\n",
    "    sma = data[(ticker, 'Adj Close')].rolling(window=window_boll).mean()\n",
    "    rstd = data[(ticker, 'Adj Close')].rolling(window=window_boll).std()\n",
    "    data.insert(loc=position + 4, column=(ticker, 'Upper_Band'), value=sma + 2 * rstd)\n",
    "    data.insert(loc=position + 5, column=(ticker, 'Lower_Band'), value=sma - 2 * rstd)\n",
    "\n",
    "# Drop rows where any of the specified indicators are NaN\n",
    "data.dropna(subset=[\n",
    "    ('^GSPC', 'SMA_30'), \n",
    "    ('^GSPC', 'RSI_14'), \n",
    "    ('^GSPC', 'Upper_Band'), \n",
    "    ('^GSPC', 'Lower_Band'),\n",
    "    ('^IXIC', 'SMA_30'),\n",
    "    ('^IXIC', 'RSI_14'),\n",
    "    ('^IXIC', 'Upper_Band'),\n",
    "    ('^IXIC', 'Lower_Band'),\n",
    "    ('^N225', 'SMA_30'),\n",
    "    ('^N225', 'RSI_14'),\n",
    "    ('^N225', 'Upper_Band'),\n",
    "    ('^N225', 'Lower_Band')\n",
    "    ], inplace=True)"
   ]
  },
  {
   "cell_type": "markdown",
   "id": "3b94b7ad-f3ab-4449-9848-a7c7d9c14df2",
   "metadata": {},
   "source": [
    "# Normalization\n",
    "\n",
    "## Overview\n",
    "Normalization is a critical preprocessing step in data analysis, and for this dataset, we use the **MinMaxScaler** from Python's scikit-learn library to adjust the scales of features. This type of normalization transforms features by scaling them to a given range, specifically between 0 and 1. This approach is particularly beneficial for financial datasets as it preserves the relationships among data points while standardizing the range. By normalizing features to a common scale, we prevent variables with larger scales from dominating the model's behavior, which is crucial for algorithms sensitive to input scale such as neural networks and distance-based algorithms like k-NN.\n",
    "\n",
    "\n",
    "## Features Normalized\n",
    "- **Price-related Features**: 'Open', 'High', 'Low', and 'Adj Close' are normalized because these features vary significantly in magnitude and can skew the performance of machine learning models.\n",
    "- **Volume**: Since trade volume can range over several orders of magnitude, normalizing this feature helps to maintain its proportional impact relative to price features.\n",
    "- **Derived Indicators (SMA, Bollinger Bands)**: These are based on price data and share its scale. Normalizing these alongside price data ensures consistency in scale across all price-related features.\n",
    "\n",
    "## Features Not Normalized\n",
    "- **RSI**: This indicator ranges from 0 to 100, representing overbought and oversold conditions. Normalizing RSI would strip it of its interpretative value.\n",
    "- **MACD**: Though derived from price, the MACD is a difference between two EMAs and its value (including its signal line) has meaning in its scale relative to zero. Normalizing these would disrupt their threshold-based interpretation.\n",
    "\n",
    "\n",
    "The decision to normalize certain features while excluding others is based on maintaining the utility and interpretability of each feature. By standardizing the scale of direct measurements and derived statistics based on those measurements, we enhance model reliability without compromising the data's inherent signals.\n"
   ]
  },
  {
   "cell_type": "code",
   "execution_count": 184,
   "id": "d17b84e4-bfbe-40fd-83c6-62332ae81919",
   "metadata": {},
   "outputs": [],
   "source": [
    "def normalize_data(df, features):\n",
    "    scaler = MinMaxScaler()\n",
    "    # Normalize the specified features, ensuring they are referenced correctly\n",
    "    df.loc[:, features] = scaler.fit_transform(df[features])\n",
    "    return df\n",
    "\n",
    "# Apply normalization to each DataFrame, correctly referencing multi-level columns\n",
    "for ticker in tickers:\n",
    "    # Specify multi-level columns including the ticker to ensure correct reference\n",
    "    features_to_normalize = [(ticker, 'Open'), (ticker, 'High'), (ticker, 'Low'), \n",
    "                             (ticker, 'Close'), (ticker, 'Adj Close'), (ticker, 'Volume'),\n",
    "                             (ticker, 'SMA_30'), (ticker, 'Upper_Band'), (ticker, 'Lower_Band')]\n",
    "    # Filter to ensure only existing columns are selected and passed\n",
    "    existing_features = [feature for feature in features_to_normalize if feature in data.columns]\n",
    "\n",
    "    # Check if there are valid features to normalize\n",
    "    if existing_features:\n",
    "        # Normalize using the correct multi-level column references\n",
    "        data.loc[:, existing_features] = normalize_data(data.loc[:, existing_features], existing_features)"
   ]
  },
  {
   "cell_type": "code",
   "execution_count": 186,
   "id": "a6d77ad2-f40c-40d9-8f29-6feea5901376",
   "metadata": {},
   "outputs": [],
   "source": [
    "# Separate DataFrames for each ticker\n",
    "gspc_df = data['^GSPC']\n",
    "ixic_df = data['^IXIC']\n",
    "n225_df = data['^N225']"
   ]
  },
  {
   "cell_type": "code",
   "execution_count": null,
   "id": "a0be1496-d956-4ed6-92b6-c4399ebc0335",
   "metadata": {},
   "outputs": [],
   "source": []
  }
 ],
 "metadata": {
  "kernelspec": {
   "display_name": "Python 3 (ipykernel)",
   "language": "python",
   "name": "python3"
  },
  "language_info": {
   "codemirror_mode": {
    "name": "ipython",
    "version": 3
   },
   "file_extension": ".py",
   "mimetype": "text/x-python",
   "name": "python",
   "nbconvert_exporter": "python",
   "pygments_lexer": "ipython3",
   "version": "3.12.4"
  }
 },
 "nbformat": 4,
 "nbformat_minor": 5
}
